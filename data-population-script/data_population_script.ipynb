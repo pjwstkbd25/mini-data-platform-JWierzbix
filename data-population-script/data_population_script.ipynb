{
 "cells": [
  {
   "cell_type": "markdown",
   "metadata": {},
   "source": [
    "## Data Population Script"
   ]
  },
  {
   "cell_type": "markdown",
   "metadata": {},
   "source": [
    "#### 1. Data Source: Ecommerce transactions -> https://www.kaggle.com/datasets/smayanj/e-commerce-transactions-dataset\n",
    "#### 2. Data Source: Chocolate Sales Data -> https://www.kaggle.com/datasets/atharvasoundankar/chocolate-sales \n",
    "#### 3. Data Source: Customer Transactions Dataset -> https://www.kaggle.com/datasets/mohammedarfathr/customer-transactions-dataset \n",
    "--------------------------"
   ]
  },
  {
   "cell_type": "markdown",
   "metadata": {},
   "source": [
    "Installing packages"
   ]
  },
  {
   "cell_type": "code",
   "execution_count": 1,
   "metadata": {
    "vscode": {
     "languageId": "bat"
    }
   },
   "outputs": [
    {
     "name": "stdout",
     "output_type": "stream",
     "text": [
      "Installing sqlalchemy...\n",
      "Defaulting to user installation because normal site-packages is not writeable\n",
      "Requirement already satisfied: sqlalchemy in /Users/jakub.wierzbicki/Library/Python/3.12/lib/python/site-packages (2.0.38)\n",
      "Requirement already satisfied: typing-extensions>=4.6.0 in /Users/jakub.wierzbicki/Library/Python/3.12/lib/python/site-packages (from sqlalchemy) (4.12.2)\n",
      "\n",
      "\u001b[1m[\u001b[0m\u001b[34;49mnotice\u001b[0m\u001b[1;39;49m]\u001b[0m\u001b[39;49m A new release of pip is available: \u001b[0m\u001b[31;49m24.3.1\u001b[0m\u001b[39;49m -> \u001b[0m\u001b[32;49m25.1.1\u001b[0m\n",
      "\u001b[1m[\u001b[0m\u001b[34;49mnotice\u001b[0m\u001b[1;39;49m]\u001b[0m\u001b[39;49m To update, run: \u001b[0m\u001b[32;49mpython3.12 -m pip install --upgrade pip\u001b[0m\n",
      "Installing psycopg2-binary...\n",
      "Defaulting to user installation because normal site-packages is not writeable\n",
      "Requirement already satisfied: psycopg2-binary in /Users/jakub.wierzbicki/Library/Python/3.12/lib/python/site-packages (2.9.10)\n",
      "\n",
      "\u001b[1m[\u001b[0m\u001b[34;49mnotice\u001b[0m\u001b[1;39;49m]\u001b[0m\u001b[39;49m A new release of pip is available: \u001b[0m\u001b[31;49m24.3.1\u001b[0m\u001b[39;49m -> \u001b[0m\u001b[32;49m25.1.1\u001b[0m\n",
      "\u001b[1m[\u001b[0m\u001b[34;49mnotice\u001b[0m\u001b[1;39;49m]\u001b[0m\u001b[39;49m To update, run: \u001b[0m\u001b[32;49mpython3.12 -m pip install --upgrade pip\u001b[0m\n",
      "Installing kagglehub...\n",
      "Defaulting to user installation because normal site-packages is not writeable\n",
      "Requirement already satisfied: kagglehub in /Users/jakub.wierzbicki/Library/Python/3.12/lib/python/site-packages (0.3.10)\n",
      "Requirement already satisfied: packaging in /Users/jakub.wierzbicki/Library/Python/3.12/lib/python/site-packages (from kagglehub) (24.2)\n",
      "Requirement already satisfied: pyyaml in /Users/jakub.wierzbicki/Library/Python/3.12/lib/python/site-packages (from kagglehub) (6.0.2)\n",
      "Requirement already satisfied: requests in /Users/jakub.wierzbicki/Library/Python/3.12/lib/python/site-packages (from kagglehub) (2.32.3)\n",
      "Requirement already satisfied: tqdm in /Users/jakub.wierzbicki/Library/Python/3.12/lib/python/site-packages (from kagglehub) (4.67.1)\n",
      "Requirement already satisfied: charset-normalizer<4,>=2 in /Users/jakub.wierzbicki/Library/Python/3.12/lib/python/site-packages (from requests->kagglehub) (3.4.1)\n",
      "Requirement already satisfied: idna<4,>=2.5 in /Users/jakub.wierzbicki/Library/Python/3.12/lib/python/site-packages (from requests->kagglehub) (3.10)\n",
      "Requirement already satisfied: urllib3<3,>=1.21.1 in /Users/jakub.wierzbicki/Library/Python/3.12/lib/python/site-packages (from requests->kagglehub) (2.3.0)\n",
      "Requirement already satisfied: certifi>=2017.4.17 in /Users/jakub.wierzbicki/Library/Python/3.12/lib/python/site-packages (from requests->kagglehub) (2024.12.14)\n",
      "\n",
      "\u001b[1m[\u001b[0m\u001b[34;49mnotice\u001b[0m\u001b[1;39;49m]\u001b[0m\u001b[39;49m A new release of pip is available: \u001b[0m\u001b[31;49m24.3.1\u001b[0m\u001b[39;49m -> \u001b[0m\u001b[32;49m25.1.1\u001b[0m\n",
      "\u001b[1m[\u001b[0m\u001b[34;49mnotice\u001b[0m\u001b[1;39;49m]\u001b[0m\u001b[39;49m To update, run: \u001b[0m\u001b[32;49mpython3.12 -m pip install --upgrade pip\u001b[0m\n",
      "Installing dotenv...\n",
      "Defaulting to user installation because normal site-packages is not writeable\n",
      "Requirement already satisfied: dotenv in /Users/jakub.wierzbicki/Library/Python/3.12/lib/python/site-packages (0.9.9)\n",
      "Requirement already satisfied: python-dotenv in /Users/jakub.wierzbicki/Library/Python/3.12/lib/python/site-packages (from dotenv) (1.0.1)\n",
      "\n",
      "\u001b[1m[\u001b[0m\u001b[34;49mnotice\u001b[0m\u001b[1;39;49m]\u001b[0m\u001b[39;49m A new release of pip is available: \u001b[0m\u001b[31;49m24.3.1\u001b[0m\u001b[39;49m -> \u001b[0m\u001b[32;49m25.1.1\u001b[0m\n",
      "\u001b[1m[\u001b[0m\u001b[34;49mnotice\u001b[0m\u001b[1;39;49m]\u001b[0m\u001b[39;49m To update, run: \u001b[0m\u001b[32;49mpython3.12 -m pip install --upgrade pip\u001b[0m\n",
      "Installing pandas...\n",
      "Defaulting to user installation because normal site-packages is not writeable\n",
      "Requirement already satisfied: pandas in /Users/jakub.wierzbicki/Library/Python/3.12/lib/python/site-packages (2.2.3)\n",
      "Requirement already satisfied: numpy>=1.26.0 in /Users/jakub.wierzbicki/Library/Python/3.12/lib/python/site-packages (from pandas) (2.1.3)\n",
      "Requirement already satisfied: python-dateutil>=2.8.2 in /Users/jakub.wierzbicki/Library/Python/3.12/lib/python/site-packages (from pandas) (2.9.0.post0)\n",
      "Requirement already satisfied: pytz>=2020.1 in /Users/jakub.wierzbicki/Library/Python/3.12/lib/python/site-packages (from pandas) (2024.2)\n",
      "Requirement already satisfied: tzdata>=2022.7 in /Users/jakub.wierzbicki/Library/Python/3.12/lib/python/site-packages (from pandas) (2024.2)\n",
      "Requirement already satisfied: six>=1.5 in /Users/jakub.wierzbicki/Library/Python/3.12/lib/python/site-packages (from python-dateutil>=2.8.2->pandas) (1.16.0)\n",
      "\n",
      "\u001b[1m[\u001b[0m\u001b[34;49mnotice\u001b[0m\u001b[1;39;49m]\u001b[0m\u001b[39;49m A new release of pip is available: \u001b[0m\u001b[31;49m24.3.1\u001b[0m\u001b[39;49m -> \u001b[0m\u001b[32;49m25.1.1\u001b[0m\n",
      "\u001b[1m[\u001b[0m\u001b[34;49mnotice\u001b[0m\u001b[1;39;49m]\u001b[0m\u001b[39;49m To update, run: \u001b[0m\u001b[32;49mpython3.12 -m pip install --upgrade pip\u001b[0m\n"
     ]
    }
   ],
   "source": [
    "with open('./requirements.txt', 'r') as file:\n",
    "    packages = file.readlines()\n",
    "    \n",
    "for package in packages:\n",
    "    package = package.strip()  # Remove whitespace and newlines\n",
    "    if package:\n",
    "        print(f'Installing {package}...')\n",
    "        !pip install --trusted-host pypi.org --trusted-host pypi.python.org --trusted-host files.pythonhosted.org {package}"
   ]
  },
  {
   "cell_type": "markdown",
   "metadata": {},
   "source": [
    "Generating connection with PostgreSql"
   ]
  },
  {
   "cell_type": "code",
   "execution_count": 43,
   "metadata": {},
   "outputs": [
    {
     "name": "stdout",
     "output_type": "stream",
     "text": [
      "Connection successful!\n"
     ]
    }
   ],
   "source": [
    "import os\n",
    "from dotenv import load_dotenv\n",
    "from sqlalchemy import create_engine, inspect\n",
    "\n",
    "# Load environment variables from .env file\n",
    "load_dotenv()\n",
    "\n",
    "# Specify the path to the .env file\n",
    "env_path = os.path.join(os.path.dirname(os.getcwd()), '.env')\n",
    "\n",
    "# Load environment variables from specified .env file\n",
    "load_dotenv(env_path)\n",
    "\n",
    "# Get database connection parameters from environment variables\n",
    "db_user = os.getenv('POSTGRES_USER')\n",
    "db_password = os.getenv('POSTGRES_PASSWORD')\n",
    "db_name = os.getenv('POSTGRES_DB')\n",
    "db_host = 'localhost'  # Since we're connecting to a container\n",
    "db_port = '5432'\n",
    "\n",
    "# Create the database connection URL\n",
    "db_url = f'postgresql://{db_user}:{db_password}@{db_host}:{db_port}/{db_name}'\n",
    "\n",
    "# Create the SQLAlchemy engine\n",
    "engine = create_engine(db_url)\n",
    "\n",
    "# Create inspector to check for existing tables\n",
    "inspector = inspect(engine)\n",
    "\n",
    "# Test the connection\n",
    "try:\n",
    "    connection = engine.connect()\n",
    "    print(\"Connection successful!\")\n",
    "    connection.close()\n",
    "except Exception as e:\n",
    "    print(f\"Connection failed: {str(e)}\")"
   ]
  },
  {
   "cell_type": "code",
   "execution_count": 44,
   "metadata": {},
   "outputs": [
    {
     "name": "stdout",
     "output_type": "stream",
     "text": [
      "Table Ecommerce_Transactions created successfully\n",
      "Table Chocolate_Sales_Data created successfully\n",
      "Table Customer_Transactions_Dataset created successfully\n"
     ]
    }
   ],
   "source": [
    "from sqlalchemy import Table, Column, Integer, String, Float, Date, MetaData, text\n",
    "from sqlalchemy.dialects.postgresql import UUID\n",
    "import uuid\n",
    "\n",
    "# Create a MetaData instance\n",
    "metadata = MetaData()\n",
    "\n",
    "# Function to create table if it doesn't exist\n",
    "def create_table_if_not_exists(table_name, table_definition):\n",
    "    if not inspector.has_table(table_name):\n",
    "        table_definition.create(engine)\n",
    "        print(f\"Table {table_name} created successfully\")\n",
    "    else:\n",
    "        print(f\"Table {table_name} already exists\")\n",
    "\n",
    "# Define the tables\n",
    "Ecommerce_Transactions = Table(\n",
    "    'Ecommerce_Transactions', \n",
    "    metadata,\n",
    "    Column('id', UUID(as_uuid=True), primary_key=True, server_default=text(\"gen_random_uuid()\")),\n",
    "    Column('Transaction_ID', Integer),\n",
    "    Column('User_Name', String(100), nullable=False),\n",
    "    Column('Age', Integer, nullable=False),\n",
    "    Column('Country', String(50), nullable=False),\n",
    "    Column('Product_Category', String(50), nullable=False),\n",
    "    Column('Purchase_Amount', Float, nullable=False),\n",
    "    Column('Payment_Method', String(50), nullable=False),\n",
    "    Column('Transaction_Date', Date, nullable=False)\n",
    ")\n",
    "\n",
    "Chocolate_Sales_Data = Table(\n",
    "    'Chocolate_Sales_Data',\n",
    "    metadata,\n",
    "    Column('id', UUID(as_uuid=True), primary_key=True, server_default=text(\"gen_random_uuid()\")),\n",
    "    Column('Sales_Person', String(100), nullable=False),\n",
    "    Column('Country', String(50), nullable=False),\n",
    "    Column('Product', String(100), nullable=False),\n",
    "    Column('Date', Date, nullable=False),\n",
    "    Column('Amount', String(15), nullable=False),\n",
    "    Column('Boxes_Shipped', Integer, nullable=False)\n",
    ")\n",
    "\n",
    "Customer_Transactions_Dataset = Table(\n",
    "    'Customer_Transactions_Dataset',\n",
    "    metadata,\n",
    "    Column('id', UUID(as_uuid=True), primary_key=True, server_default=text(\"gen_random_uuid()\")),\n",
    "    Column('Customer_ID', Integer, nullable=True),\n",
    "    Column('Age', Float, nullable=True),\n",
    "    Column('Annual_Income', Float, nullable=False),\n",
    "    Column('Spending_Score', Float, nullable=False),\n",
    "    Column('Purchase_Frequency', Integer, nullable=False),\n",
    "    Column('Transaction_Amount', Float, nullable=True)\n",
    ")\n",
    "\n",
    "# Create tables if they don't exist\n",
    "create_table_if_not_exists('Ecommerce_Transactions', Ecommerce_Transactions)\n",
    "create_table_if_not_exists('Chocolate_Sales_Data', Chocolate_Sales_Data)\n",
    "create_table_if_not_exists('Customer_Transactions_Dataset', Customer_Transactions_Dataset)"
   ]
  },
  {
   "cell_type": "markdown",
   "metadata": {},
   "source": [
    "Loading data from CSV files and uploading to PostgreSQL"
   ]
  },
  {
   "cell_type": "code",
   "execution_count": 47,
   "metadata": {},
   "outputs": [
    {
     "name": "stdout",
     "output_type": "stream",
     "text": [
      "Successfully uploaded 10 rows to Ecommerce_Transactions\n",
      "Successfully uploaded 10 rows to Chocolate_Sales_Data\n",
      "Successfully uploaded 10 rows to Customer_Transactions_Dataset\n"
     ]
    },
    {
     "name": "stderr",
     "output_type": "stream",
     "text": [
      "/var/folders/lk/b67y2x_537sd_nwg8my4ghp40000gn/T/ipykernel_25536/1667415610.py:15: SettingWithCopyWarning: \n",
      "A value is trying to be set on a copy of a slice from a DataFrame.\n",
      "Try using .loc[row_indexer,col_indexer] = value instead\n",
      "\n",
      "See the caveats in the documentation: https://pandas.pydata.org/pandas-docs/stable/user_guide/indexing.html#returning-a-view-versus-a-copy\n",
      "  df_sample['Transaction_Date'] = pd.to_datetime(df_sample['Transaction_Date'])\n",
      "/var/folders/lk/b67y2x_537sd_nwg8my4ghp40000gn/T/ipykernel_25536/1667415610.py:17: UserWarning: Could not infer format, so each element will be parsed individually, falling back to `dateutil`. To ensure parsing is consistent and as-expected, please specify a format.\n",
      "  df_sample['Date'] = pd.to_datetime(df_sample['Date'])\n",
      "/var/folders/lk/b67y2x_537sd_nwg8my4ghp40000gn/T/ipykernel_25536/1667415610.py:17: SettingWithCopyWarning: \n",
      "A value is trying to be set on a copy of a slice from a DataFrame.\n",
      "Try using .loc[row_indexer,col_indexer] = value instead\n",
      "\n",
      "See the caveats in the documentation: https://pandas.pydata.org/pandas-docs/stable/user_guide/indexing.html#returning-a-view-versus-a-copy\n",
      "  df_sample['Date'] = pd.to_datetime(df_sample['Date'])\n"
     ]
    }
   ],
   "source": [
    "import pandas as pd\n",
    "import os\n",
    "\n",
    "# Function to load and upload data\n",
    "def load_and_upload_data(file_path, table_name, engine):\n",
    "    try:\n",
    "        # Read CSV file\n",
    "        df = pd.read_csv(file_path)\n",
    "        \n",
    "        # Get first 10 rows\n",
    "        df_sample = df.head(10)\n",
    "        \n",
    "        # Handle date columns based on table name\n",
    "        if table_name == 'Ecommerce_Transactions':\n",
    "            df_sample['Transaction_Date'] = pd.to_datetime(df_sample['Transaction_Date'])\n",
    "        elif table_name == 'Chocolate_Sales_Data':\n",
    "            df_sample['Date'] = pd.to_datetime(df_sample['Date'])\n",
    "        \n",
    "        # Upload to PostgreSQL\n",
    "        df_sample.to_sql(table_name, engine, if_exists='append', index=False)\n",
    "        print(f'Successfully uploaded {len(df_sample)} rows to {table_name}')\n",
    "        \n",
    "    except Exception as e:\n",
    "        print(f'Error processing {table_name}: {str(e)}')\n",
    "\n",
    "# Define file paths\n",
    "data_files = {\n",
    "    'Ecommerce_Transactions': 'data/ecommerce_transactions.csv',\n",
    "    'Chocolate_Sales_Data': 'data/Chocolate Sales.csv',\n",
    "    'Customer_Transactions_Dataset': 'data/unclean_customer_data.csv'\n",
    "}\n",
    "\n",
    "# Process each file\n",
    "for table_name, file_path in data_files.items():\n",
    "    if os.path.exists(file_path):\n",
    "        load_and_upload_data(file_path, table_name, engine)\n",
    "    else:\n",
    "        print(f'File not found: {file_path}')"
   ]
  },
  {
   "cell_type": "markdown",
   "metadata": {},
   "source": [
    "Verify data upload by querying tables"
   ]
  },
  {
   "cell_type": "code",
   "execution_count": 48,
   "metadata": {},
   "outputs": [
    {
     "name": "stdout",
     "output_type": "stream",
     "text": [
      "\n",
      "Data preview for Ecommerce_Transactions:\n",
      "   count\n",
      "0     20\n",
      "\n",
      "Data preview for Chocolate_Sales_Data:\n",
      "   count\n",
      "0     20\n",
      "\n",
      "Data preview for Customer_Transactions_Dataset:\n",
      "   count\n",
      "0     20\n"
     ]
    }
   ],
   "source": [
    "# Verify uploaded data\n",
    "def verify_data(table_name, engine):\n",
    "    query = f'SELECT count(*) FROM public.\"{table_name}\" LIMIT 5'\n",
    "    try:\n",
    "        result = pd.read_sql(query, engine)\n",
    "        print(f'\\nData preview for {table_name}:')\n",
    "        print(result)\n",
    "    except Exception as e:\n",
    "        print(f'Error querying {table_name}: {str(e)}')\n",
    "\n",
    "# Verify each table\n",
    "for table_name in data_files.keys():\n",
    "    verify_data(table_name, engine)"
   ]
  }
 ],
 "metadata": {
  "kernelspec": {
   "display_name": "Python 3",
   "language": "python",
   "name": "python3"
  },
  "language_info": {
   "codemirror_mode": {
    "name": "ipython",
    "version": 3
   },
   "file_extension": ".py",
   "mimetype": "text/x-python",
   "name": "python",
   "nbconvert_exporter": "python",
   "pygments_lexer": "ipython3",
   "version": "3.12.5"
  }
 },
 "nbformat": 4,
 "nbformat_minor": 2
}
